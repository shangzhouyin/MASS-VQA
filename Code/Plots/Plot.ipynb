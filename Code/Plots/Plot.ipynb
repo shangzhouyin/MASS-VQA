{
 "cells": [
  {
   "cell_type": "code",
   "execution_count": 4,
   "metadata": {
    "collapsed": true
   },
   "outputs": [
    {
     "name": "stderr",
     "output_type": "stream",
     "text": [
      "/Users/denis/anaconda3/lib/python3.6/site-packages/ipykernel_launcher.py:3: UserWarning: \nThis call to matplotlib.use() has no effect because the backend has already\nbeen chosen; matplotlib.use() must be called *before* pylab, matplotlib.pyplot,\nor matplotlib.backends is imported for the first time.\n\nThe backend was *originally* set to 'module://ipykernel.pylab.backend_inline' by the following code:\n  File \"/Users/denis/anaconda3/lib/python3.6/runpy.py\", line 193, in _run_module_as_main\n    \"__main__\", mod_spec)\n  File \"/Users/denis/anaconda3/lib/python3.6/runpy.py\", line 85, in _run_code\n    exec(code, run_globals)\n  File \"/Users/denis/anaconda3/lib/python3.6/site-packages/ipykernel_launcher.py\", line 16, in <module>\n    app.launch_new_instance()\n  File \"/Users/denis/anaconda3/lib/python3.6/site-packages/traitlets/config/application.py\", line 658, in launch_instance\n    app.start()\n  File \"/Users/denis/anaconda3/lib/python3.6/site-packages/ipykernel/kernelapp.py\", line 477, in start\n    ioloop.IOLoop.instance().start()\n  File \"/Users/denis/anaconda3/lib/python3.6/site-packages/zmq/eventloop/ioloop.py\", line 177, in start\n    super(ZMQIOLoop, self).start()\n  File \"/Users/denis/anaconda3/lib/python3.6/site-packages/tornado/ioloop.py\", line 888, in start\n    handler_func(fd_obj, events)\n  File \"/Users/denis/anaconda3/lib/python3.6/site-packages/tornado/stack_context.py\", line 277, in null_wrapper\n    return fn(*args, **kwargs)\n  File \"/Users/denis/anaconda3/lib/python3.6/site-packages/zmq/eventloop/zmqstream.py\", line 440, in _handle_events\n    self._handle_recv()\n  File \"/Users/denis/anaconda3/lib/python3.6/site-packages/zmq/eventloop/zmqstream.py\", line 472, in _handle_recv\n    self._run_callback(callback, msg)\n  File \"/Users/denis/anaconda3/lib/python3.6/site-packages/zmq/eventloop/zmqstream.py\", line 414, in _run_callback\n    callback(*args, **kwargs)\n  File \"/Users/denis/anaconda3/lib/python3.6/site-packages/tornado/stack_context.py\", line 277, in null_wrapper\n    return fn(*args, **kwargs)\n  File \"/Users/denis/anaconda3/lib/python3.6/site-packages/ipykernel/kernelbase.py\", line 283, in dispatcher\n    return self.dispatch_shell(stream, msg)\n  File \"/Users/denis/anaconda3/lib/python3.6/site-packages/ipykernel/kernelbase.py\", line 235, in dispatch_shell\n    handler(stream, idents, msg)\n  File \"/Users/denis/anaconda3/lib/python3.6/site-packages/ipykernel/kernelbase.py\", line 399, in execute_request\n    user_expressions, allow_stdin)\n  File \"/Users/denis/anaconda3/lib/python3.6/site-packages/ipykernel/ipkernel.py\", line 196, in do_execute\n    res = shell.run_cell(code, store_history=store_history, silent=silent)\n  File \"/Users/denis/anaconda3/lib/python3.6/site-packages/ipykernel/zmqshell.py\", line 533, in run_cell\n    return super(ZMQInteractiveShell, self).run_cell(*args, **kwargs)\n  File \"/Users/denis/.local/lib/python3.6/site-packages/IPython/core/interactiveshell.py\", line 2705, in run_cell\n    interactivity=interactivity, compiler=compiler, result=result)\n  File \"/Users/denis/.local/lib/python3.6/site-packages/IPython/core/interactiveshell.py\", line 2809, in run_ast_nodes\n    if self.run_code(code, result):\n  File \"/Users/denis/.local/lib/python3.6/site-packages/IPython/core/interactiveshell.py\", line 2869, in run_code\n    exec(code_obj, self.user_global_ns, self.user_ns)\n  File \"<ipython-input-4-d577907dbd6d>\", line 1, in <module>\n    get_ipython().magic('matplotlib inline')\n  File \"/Users/denis/.local/lib/python3.6/site-packages/IPython/core/interactiveshell.py\", line 2146, in magic\n    return self.run_line_magic(magic_name, magic_arg_s)\n  File \"/Users/denis/.local/lib/python3.6/site-packages/IPython/core/interactiveshell.py\", line 2067, in run_line_magic\n    result = fn(*args,**kwargs)\n  File \"<decorator-gen-104>\", line 2, in matplotlib\n  File \"/Users/denis/.local/lib/python3.6/site-packages/IPython/core/magic.py\", line 188, in <lambda>\n    call = lambda f, *a, **k: f(*a, **k)\n  File \"/Users/denis/.local/lib/python3.6/site-packages/IPython/core/magics/pylab.py\", line 100, in matplotlib\n    gui, backend = self.shell.enable_matplotlib(args.gui)\n  File \"/Users/denis/.local/lib/python3.6/site-packages/IPython/core/interactiveshell.py\", line 2935, in enable_matplotlib\n    pt.activate_matplotlib(backend)\n  File \"/Users/denis/.local/lib/python3.6/site-packages/IPython/core/pylabtools.py\", line 296, in activate_matplotlib\n    matplotlib.pyplot.switch_backend(backend)\n  File \"/Users/denis/anaconda3/lib/python3.6/site-packages/matplotlib/pyplot.py\", line 229, in switch_backend\n    matplotlib.use(newbackend, warn=False, force=True)\n  File \"/Users/denis/anaconda3/lib/python3.6/site-packages/matplotlib/__init__.py\", line 1305, in use\n    reload(sys.modules['matplotlib.backends'])\n  File \"/Users/denis/anaconda3/lib/python3.6/importlib/__init__.py\", line 166, in reload\n    _bootstrap._exec(spec, module)\n  File \"/Users/denis/anaconda3/lib/python3.6/site-packages/matplotlib/backends/__init__.py\", line 14, in <module>\n    line for line in traceback.format_stack()\n\n\n  This is separate from the ipykernel package so we can avoid doing imports until\n"
     ]
    }
   ],
   "source": [
    "%matplotlib inline\n",
    "import torch\n",
    "import matplotlib; matplotlib.use('agg')\n",
    "import matplotlib.pyplot as plt\n",
    "import numpy as np"
   ]
  },
  {
   "cell_type": "code",
   "execution_count": 45,
   "metadata": {},
   "outputs": [
    {
     "name": "stderr",
     "output_type": "stream",
     "text": [
      "/home/ubuntu/anaconda3/envs/pytorch_p36/lib/python3.6/site-packages/ipykernel/__main__.py:17: MatplotlibDeprecationWarning: The set_color_cycle function was deprecated in version 1.5. Use `.set_prop_cycle` instead.\n"
     ]
    },
    {
     "data": {
      "image/png": "[encoded data removed]",
      "text/plain": [
       "<Figure size 432x288 with 1 Axes>"
      ]
     },
     "metadata": {},
     "output_type": "display_data"
    },
    {
     "data": {
      "text/plain": [
       "<Figure size 432x288 with 0 Axes>"
      ]
     },
     "metadata": {},
     "output_type": "display_data"
    }
   ],
   "source": [
    "path = 'logs/5ans_50epochs/2018-08-13_15:21:41.pth'\n",
    "results = torch.load(path)\n",
    "\n",
    "val_acc = torch.FloatTensor(results['tracker']['val_acc'])\n",
    "val_acc = val_acc.mean(dim=1).numpy()\n",
    "\n",
    "\n",
    "\n",
    "val_acc=np.insert(val_acc,0,0)\n",
    "\n",
    "train_acc = torch.FloatTensor(results['tracker']['train_acc'])\n",
    "train_acc = train_acc.mean(dim=1).numpy()\n",
    "\n",
    "\n",
    "train_acc=np.insert(train_acc,0,0)\n",
    "\n",
    "plt.gca().set_color_cycle(['blue', 'red'])\n",
    "\n",
    "\n",
    "axes = plt.gca()\n",
    "axes.set_ylim([0,1])\n",
    "\n",
    "plt.plot(val_acc)\n",
    "plt.plot(train_acc)\n",
    "\n",
    "fig_acc = plt.gcf()\n",
    "plt.show()\n",
    "#plt.savefig('val_acc.png')\n",
    "plt.figure()\n",
    "fig_acc.savefig('train_val_5ans_50epochs.png', dpi = 1000)"
   ]
  },
  {
   "cell_type": "code",
   "execution_count": 44,
   "metadata": {},
   "outputs": [
    {
     "name": "stderr",
     "output_type": "stream",
     "text": [
      "/home/ubuntu/anaconda3/envs/pytorch_p36/lib/python3.6/site-packages/ipykernel/__main__.py:17: MatplotlibDeprecationWarning: The set_color_cycle function was deprecated in version 1.5. Use `.set_prop_cycle` instead.\n"
     ]
    },
    {
     "data": {
      "image/png": "[encoded data removed]",
      "text/plain": [
       "<Figure size 432x288 with 1 Axes>"
      ]
     },
     "metadata": {},
     "output_type": "display_data"
    },
    {
     "data": {
      "text/plain": [
       "<Figure size 432x288 with 0 Axes>"
      ]
     },
     "metadata": {},
     "output_type": "display_data"
    }
   ],
   "source": [
    "path = 'logs/5ans_50epochs/2018-08-13_15:21:41.pth'\n",
    "results = torch.load(path)\n",
    "\n",
    "val_acc = torch.FloatTensor(results['tracker']['val_acc'])\n",
    "val_acc = val_acc.mean(dim=1).numpy()\n",
    "\n",
    "\n",
    "\n",
    "val_acc=np.insert(val_acc,0,0)\n",
    "\n",
    "train_acc = torch.FloatTensor(results['tracker']['train_acc'])\n",
    "train_acc = train_acc.mean(dim=1).numpy()\n",
    "\n",
    "\n",
    "train_acc=np.insert(train_acc,0,0)\n",
    "\n",
    "plt.gca().set_color_cycle(['blue', 'red'])\n",
    "\n",
    "#plt.figure()\n",
    "plt.plot(val_acc)\n",
    "#plt.plot(train_acc)\n",
    "\n",
    "axes = plt.gca()\n",
    "axes.set_ylim([0,0.6])\n",
    "\n",
    "fig_acc = plt.gcf()\n",
    "plt.show()\n",
    "#plt.savefig('val_acc.png')\n",
    "plt.figure()\n",
    "fig_acc.savefig('val_5ans_50epochs.png', dpi = 1000)\n"
   ]
  },
  {
   "cell_type": "code",
   "execution_count": null,
   "metadata": {},
   "outputs": [],
   "source": []
  }
 ],
 "metadata": {
  "kernelspec": {
   "display_name": "Environment (conda_pytorch_p36)",
   "language": "python",
   "name": "conda_pytorch_p36"
  },
  "language_info": {
   "codemirror_mode": {
    "name": "ipython",
    "version": 3
   },
   "file_extension": ".py",
   "mimetype": "text/x-python",
   "name": "python",
   "nbconvert_exporter": "python",
   "pygments_lexer": "ipython3",
   "version": "3.6.6"
  }
 },
 "nbformat": 4,
 "nbformat_minor": 2
}
